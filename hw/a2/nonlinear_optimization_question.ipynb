{
  "cells": [
    {
      "cell_type": "markdown",
      "metadata": {
        "id": "tbCLumVJaAPg"
      },
      "source": [
        "# Nonlinear Optimization\n",
        "This notebook provides a starter code for implementing nonlinear optimization methods for an objective function.\n",
        "\n",
        "Please add this notebook to your Google Drive and complete all designated sections accordingly.\n",
        "\n",
        "Creating a folder in your Google Drive to hold your Colaboratory assignments is recommended. Please include your .ipynb file with your assignment submission."
      ]
    },
    {
      "cell_type": "markdown",
      "metadata": {
        "id": "VQW3IrAeIqNw"
      },
      "source": [
        "#Headers\n",
        "Feel free to add any headers here."
      ]
    },
    {
      "cell_type": "code",
      "execution_count": 1,
      "metadata": {
        "id": "sWXz6CndaCFs"
      },
      "outputs": [],
      "source": [
        "from math import sqrt\n",
        "from numpy import asarray\n",
        "from numpy import arange\n",
        "from numpy import meshgrid\n",
        "from matplotlib import pyplot\n",
        "from mpl_toolkits.mplot3d import Axes3D\n",
        "from mpl_toolkits import mplot3d\n"
      ]
    },
    {
      "cell_type": "markdown",
      "metadata": {
        "id": "k5ub2ypUaFnG"
      },
      "source": [
        "# Objective Function\n",
        "Modify the \"objective\" function using the following equation.\n",
        "\n",
        "$$f(x,y) = 4x^{2} + \\dfrac{(y+3)^2}{15}$$"
      ]
    },
    {
      "cell_type": "code",
      "execution_count": null,
      "metadata": {
        "id": "9WtdQdbCaJX4"
      },
      "outputs": [],
      "source": [
        "def objective(x, y):\n",
        "\t# <<TODO#1>> modify the objective function\n",
        "\treturn 1"
      ]
    },
    {
      "cell_type": "markdown",
      "metadata": {
        "id": "cZofh2xkaNgz"
      },
      "source": [
        "# Gradient of objective function\n",
        "Modify the \"gradient\" function accordingly. "
      ]
    },
    {
      "cell_type": "code",
      "execution_count": null,
      "metadata": {
        "id": "k8AE7skfaSLX"
      },
      "outputs": [],
      "source": [
        "def gradient(x, y):\n",
        "\t# <<TODO#2>> modify the gradient function\n",
        "\treturn asarray([1, 1])"
      ]
    },
    {
      "cell_type": "markdown",
      "metadata": {
        "id": "cD2BOJ4JGnu0"
      },
      "source": [
        "#Part a: Plot the objective function\n",
        "Use the following block to plot the objective function. Please do not modify it."
      ]
    },
    {
      "cell_type": "code",
      "execution_count": null,
      "metadata": {
        "id": "VryKWTQpHA1y"
      },
      "outputs": [],
      "source": [
        "# define range for input\n",
        "bounds = asarray([[-15.0, 15.0], [-15.0, 15.0]])\n",
        "# sample input range uniformly at 0.1 increments\n",
        "xaxis = arange(bounds[0,0], bounds[0,1], 0.1)\n",
        "yaxis = arange(bounds[1,0], bounds[1,1], 0.1)\n",
        "# create a mesh from the axis\n",
        "x, y = meshgrid(xaxis, yaxis)\n",
        "# Figure 1\n",
        "# create a surface plot with the jet color scheme\n",
        "figure_1 = pyplot.figure(1)\n",
        "axis = figure_1.gca(projection='3d')\n",
        "axis.plot_surface(x, y, objective(x, y), cmap='jet')"
      ]
    },
    {
      "cell_type": "markdown",
      "metadata": {
        "id": "W4L0PJ8xJetp"
      },
      "source": [
        "#Part b: Basic Gradient Descent\n"
      ]
    },
    {
      "cell_type": "markdown",
      "metadata": {
        "id": "87B2hRKBPRkC"
      },
      "source": [
        "## b.1. Set Parameters\n",
        "You may change the following parameters."
      ]
    },
    {
      "cell_type": "code",
      "execution_count": null,
      "metadata": {
        "id": "5bzpkGysPVKR"
      },
      "outputs": [],
      "source": [
        "# define the total iterations\n",
        "n_iter = 200\n",
        "# steps size\n",
        "gamma_t = 0.2"
      ]
    },
    {
      "cell_type": "markdown",
      "metadata": {
        "id": "Z5wZuTEAMIWL"
      },
      "source": [
        "##b.2. Gradient Descent Function\n",
        "Modify the following function to implement a basic gradient descent approach."
      ]
    },
    {
      "cell_type": "code",
      "execution_count": null,
      "metadata": {
        "id": "GR4ePxmkKoVs"
      },
      "outputs": [],
      "source": [
        "def gradient_descent(objective, derivative, bounds, n_iter, gamma_t):\n",
        "\t# track all solutions\n",
        "\tsolutions = list()\n",
        "\t# Consider an initial point\n",
        "\tp = [-10, 10]\n",
        "\tscore = objective(p[0], p[1])\n",
        "\t# run the gradient descent\n",
        "\tfor t in range(n_iter):\n",
        "\t\t# report progress\n",
        "\t\tprint('>%d f(%s) = %.5f' % (t, p, score))\n",
        "\t\t#<<TODO#3>> Add your code here\n",
        "\treturn solutions"
      ]
    },
    {
      "cell_type": "markdown",
      "metadata": {
        "id": "Nfs1P_32NXrf"
      },
      "source": [
        "##b.3. Solve the Problem using Gradient Descent\n",
        "Use the following block to solve the problem. Please do not modify it."
      ]
    },
    {
      "cell_type": "code",
      "execution_count": null,
      "metadata": {
        "id": "9vvHrQcONsS4"
      },
      "outputs": [],
      "source": [
        "# perform the gradient descent search\n",
        "solutions = gradient_descent(objective, gradient, bounds, n_iter, gamma_t)\n",
        "solutions = asarray(solutions)"
      ]
    },
    {
      "cell_type": "markdown",
      "metadata": {
        "id": "Bhe5hEn6PhYL"
      },
      "source": [
        "##b.4. Plot results for Basic Gradient Descent\n",
        "Use the following block to plot the results. Please do not modify it."
      ]
    },
    {
      "cell_type": "code",
      "execution_count": null,
      "metadata": {
        "id": "CziHksPYRCCw"
      },
      "outputs": [],
      "source": [
        "# Figure 2\n",
        "# create a filled contour plot with 50 levels and jet color scheme\n",
        "figure_2 = pyplot.figure(2)\n",
        "pyplot.contourf(x, y, objective(x, y), levels=50, cmap='jet')\n",
        "# plot the solution\n",
        "pyplot.plot(solutions[:, 0], solutions[:, 1], '.-', color='w')\n",
        "# show the plot\n",
        "pyplot.show()"
      ]
    },
    {
      "cell_type": "markdown",
      "metadata": {
        "id": "xADvNOLRRu-G"
      },
      "source": [
        "#Part c: Adaptive Gradient (AdaGrad)"
      ]
    },
    {
      "cell_type": "markdown",
      "metadata": {
        "id": "xUY0yYq4UBZH"
      },
      "source": [
        "##c.1. Set Parameters\n",
        "You may change the following parameters."
      ]
    },
    {
      "cell_type": "code",
      "execution_count": null,
      "metadata": {
        "id": "B4DxvxHiUEqn"
      },
      "outputs": [],
      "source": [
        "# define the total iterations\n",
        "n_iter = 200\n",
        "# define the step size\n",
        "gamma_t = 0.2"
      ]
    },
    {
      "cell_type": "markdown",
      "metadata": {
        "id": "KW-RWYjfUeG0"
      },
      "source": [
        "##c.2. AdaGrad Function\n",
        "Modify the following function to implement the AdaGrad approach."
      ]
    },
    {
      "cell_type": "code",
      "execution_count": null,
      "metadata": {
        "id": "OUGiMsWqUtjU"
      },
      "outputs": [],
      "source": [
        "def adagrad(objective, derivative, bounds, n_iter, gamma_t):\n",
        "\t# track all solutions\n",
        "\tsolutions = list()\n",
        "\t# Consider an initial point\n",
        "\tp = [-10, 10]\n",
        "\tscore = objective(p[0], p[1])\n",
        "\t# initialize the preconditioner\n",
        "\tD = [0.0 for _ in range(bounds.shape[0])]\n",
        "\t# run the AdaGrad\n",
        "\tfor t in range(n_iter):\n",
        "\t\t# report progress\n",
        "\t\tprint('>%d f(%s) = %.5f' % (t, p, score))\n",
        "\t\t#<<TODO#4>> Add your code here\n",
        "\treturn solutions"
      ]
    },
    {
      "cell_type": "markdown",
      "metadata": {
        "id": "yEP7xOFEU2TR"
      },
      "source": [
        "##c.3. Solve the Problem using AdaGrad\n",
        "Use the following block to solve the problem. Please do not modify it. "
      ]
    },
    {
      "cell_type": "code",
      "execution_count": null,
      "metadata": {
        "id": "R-lHUVXUZ-Dq"
      },
      "outputs": [],
      "source": [
        "# perform the AdaGrad search\n",
        "solutions = adagrad(objective, gradient, bounds, n_iter, gamma_t)\n",
        "solutions = asarray(solutions)"
      ]
    },
    {
      "cell_type": "markdown",
      "metadata": {
        "id": "Ja0opeTCaMtZ"
      },
      "source": [
        "## c.4. Plot results for AdaGrad\n",
        "Use the following block to plot the results. Please do not modify it."
      ]
    },
    {
      "cell_type": "code",
      "execution_count": null,
      "metadata": {
        "id": "6CcKrMirakW-"
      },
      "outputs": [],
      "source": [
        "# Figure 3\n",
        "# create a filled contour plot with 50 levels and jet color scheme\n",
        "figure_3 = pyplot.figure(3)\n",
        "pyplot.contourf(x, y, objective(x, y), levels=50, cmap='jet')\n",
        "# plot the sample as black circles\n",
        "pyplot.plot(solutions[:, 0], solutions[:, 1], '.-', color='w')\n",
        "# show the plot\n",
        "pyplot.show()"
      ]
    },
    {
      "cell_type": "markdown",
      "metadata": {
        "id": "q_-kS-k0xOBG"
      },
      "source": [
        "#Part d: Adam"
      ]
    },
    {
      "cell_type": "markdown",
      "metadata": {
        "id": "OTWLeAdaxe75"
      },
      "source": [
        "##d.1. Set Parameters\n",
        "You may change the following parameters."
      ]
    },
    {
      "cell_type": "code",
      "execution_count": null,
      "metadata": {
        "id": "qrf5DxnAyJug"
      },
      "outputs": [],
      "source": [
        "eps=1e-8\n",
        "# define the total iterations\n",
        "n_iter = 200\n",
        "# steps size\n",
        "gamma_t = 0.2\n",
        "# factor for average gradient\n",
        "alpha = 0.8\n",
        "# factor for average squared gradient\n",
        "beta = 0.999"
      ]
    },
    {
      "cell_type": "markdown",
      "metadata": {
        "id": "tLvGcPzPxk7T"
      },
      "source": [
        "##d.2. Adam Function\n",
        "Modify the following function to implement the Adam approach."
      ]
    },
    {
      "cell_type": "code",
      "execution_count": null,
      "metadata": {
        "id": "WixU0gevyTr2"
      },
      "outputs": [],
      "source": [
        "def adam(objective, derivative, bounds, n_iter, gamma_t, alpha, beta, eps):\n",
        "\tsolutions = list()\n",
        "\t# consider an initial point\n",
        "\tp = [-10, 10]\n",
        "\tscore = objective(p[0], p[1])\n",
        "\t# initialize first and second moments\n",
        "\tm = [0.0 for _ in range(bounds.shape[0])]\n",
        "\tD = [0.0 for _ in range(bounds.shape[0])]\n",
        "\t# run the Adam updates\n",
        "\tfor t in range(n_iter):\n",
        "\t\t#<<TODO#5>> Add your code here\n",
        "\t\t# report progress\n",
        "\t\tprint('>%d f(%s) = %.5f' % (t, p, score))\n",
        "\treturn solutions"
      ]
    },
    {
      "cell_type": "markdown",
      "metadata": {
        "id": "UVYQzpYXxwD8"
      },
      "source": [
        "##d.3. Solve the Problem using Adam\n",
        "Use the following block to solve the problem. Please do not modify it. "
      ]
    },
    {
      "cell_type": "code",
      "execution_count": null,
      "metadata": {
        "id": "sVsp47FTyhw3"
      },
      "outputs": [],
      "source": [
        "# perform the Adam search\n",
        "solutions = adam(objective, gradient, bounds, n_iter, gamma_t, alpha, beta, eps)\n",
        "solutions = asarray(solutions)"
      ]
    },
    {
      "cell_type": "markdown",
      "metadata": {
        "id": "hNGio6ILx-Iq"
      },
      "source": [
        "## d.4. Plot results for Adam\n",
        "Use the following block to plot the results. Please do not modify it."
      ]
    },
    {
      "cell_type": "code",
      "execution_count": null,
      "metadata": {
        "id": "ZEXDHpmUzOdo"
      },
      "outputs": [],
      "source": [
        "# Figure 4\n",
        "# create a filled contour plot with 50 levels and jet color scheme\n",
        "figure_4 = pyplot.figure(4)\n",
        "pyplot.contourf(x, y, objective(x, y), levels=50, cmap='jet')\n",
        "# plot the solution\n",
        "pyplot.plot(solutions[:, 0], solutions[:, 1], '.-', color='w')\n",
        "# show the plot\n",
        "pyplot.show()"
      ]
    }
  ],
  "metadata": {
    "colab": {
      "collapsed_sections": [],
      "provenance": []
    },
    "kernelspec": {
      "display_name": "Python 3.10.9 ('base')",
      "language": "python",
      "name": "python3"
    },
    "language_info": {
      "codemirror_mode": {
        "name": "ipython",
        "version": 3
      },
      "file_extension": ".py",
      "mimetype": "text/x-python",
      "name": "python",
      "nbconvert_exporter": "python",
      "pygments_lexer": "ipython3",
      "version": "3.10.9"
    },
    "vscode": {
      "interpreter": {
        "hash": "2d5592327f6cdf58cc3f57212cc3abaed2c20672b985e04b49a3f24049725902"
      }
    }
  },
  "nbformat": 4,
  "nbformat_minor": 0
}
